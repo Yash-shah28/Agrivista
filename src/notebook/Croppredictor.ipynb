{
 "cells": [
  {
   "cell_type": "code",
   "execution_count": 5,
   "id": "4bf834fe-d493-48ed-aed4-588f9091a883",
   "metadata": {},
   "outputs": [],
   "source": [
    "import pandas as pd\n",
    "import sklearn\n",
    "import numpy as np\n",
    "import warnings\n",
    "warnings.filterwarnings('ignore')"
   ]
  },
  {
   "cell_type": "code",
   "execution_count": 6,
   "id": "a52f7aee-6118-4d38-a590-94dbc5a91f01",
   "metadata": {},
   "outputs": [],
   "source": [
    "df = pd.read_csv(\"../Data_csv/crop_recommendation.csv\")"
   ]
  },
  {
   "cell_type": "code",
   "execution_count": 7,
   "id": "7875da0f-e234-4a74-882e-e20e9231e7bc",
   "metadata": {},
   "outputs": [
    {
     "data": {
      "text/html": [
       "<div>\n",
       "<style scoped>\n",
       "    .dataframe tbody tr th:only-of-type {\n",
       "        vertical-align: middle;\n",
       "    }\n",
       "\n",
       "    .dataframe tbody tr th {\n",
       "        vertical-align: top;\n",
       "    }\n",
       "\n",
       "    .dataframe thead th {\n",
       "        text-align: right;\n",
       "    }\n",
       "</style>\n",
       "<table border=\"1\" class=\"dataframe\">\n",
       "  <thead>\n",
       "    <tr style=\"text-align: right;\">\n",
       "      <th></th>\n",
       "      <th>N</th>\n",
       "      <th>P</th>\n",
       "      <th>K</th>\n",
       "      <th>temperature</th>\n",
       "      <th>humidity</th>\n",
       "      <th>ph</th>\n",
       "      <th>rainfall</th>\n",
       "      <th>label</th>\n",
       "    </tr>\n",
       "  </thead>\n",
       "  <tbody>\n",
       "    <tr>\n",
       "      <th>0</th>\n",
       "      <td>90</td>\n",
       "      <td>42</td>\n",
       "      <td>43</td>\n",
       "      <td>20.879744</td>\n",
       "      <td>82.002744</td>\n",
       "      <td>6.502985</td>\n",
       "      <td>202.935536</td>\n",
       "      <td>rice</td>\n",
       "    </tr>\n",
       "    <tr>\n",
       "      <th>1</th>\n",
       "      <td>85</td>\n",
       "      <td>58</td>\n",
       "      <td>41</td>\n",
       "      <td>21.770462</td>\n",
       "      <td>80.319644</td>\n",
       "      <td>7.038096</td>\n",
       "      <td>226.655537</td>\n",
       "      <td>rice</td>\n",
       "    </tr>\n",
       "    <tr>\n",
       "      <th>2</th>\n",
       "      <td>60</td>\n",
       "      <td>55</td>\n",
       "      <td>44</td>\n",
       "      <td>23.004459</td>\n",
       "      <td>82.320763</td>\n",
       "      <td>7.840207</td>\n",
       "      <td>263.964248</td>\n",
       "      <td>rice</td>\n",
       "    </tr>\n",
       "    <tr>\n",
       "      <th>3</th>\n",
       "      <td>74</td>\n",
       "      <td>35</td>\n",
       "      <td>40</td>\n",
       "      <td>26.491096</td>\n",
       "      <td>80.158363</td>\n",
       "      <td>6.980401</td>\n",
       "      <td>242.864034</td>\n",
       "      <td>rice</td>\n",
       "    </tr>\n",
       "    <tr>\n",
       "      <th>4</th>\n",
       "      <td>78</td>\n",
       "      <td>42</td>\n",
       "      <td>42</td>\n",
       "      <td>20.130175</td>\n",
       "      <td>81.604873</td>\n",
       "      <td>7.628473</td>\n",
       "      <td>262.717340</td>\n",
       "      <td>rice</td>\n",
       "    </tr>\n",
       "  </tbody>\n",
       "</table>\n",
       "</div>"
      ],
      "text/plain": [
       "    N   P   K  temperature   humidity        ph    rainfall label\n",
       "0  90  42  43    20.879744  82.002744  6.502985  202.935536  rice\n",
       "1  85  58  41    21.770462  80.319644  7.038096  226.655537  rice\n",
       "2  60  55  44    23.004459  82.320763  7.840207  263.964248  rice\n",
       "3  74  35  40    26.491096  80.158363  6.980401  242.864034  rice\n",
       "4  78  42  42    20.130175  81.604873  7.628473  262.717340  rice"
      ]
     },
     "execution_count": 7,
     "metadata": {},
     "output_type": "execute_result"
    }
   ],
   "source": [
    "df.head()"
   ]
  },
  {
   "cell_type": "code",
   "execution_count": 8,
   "id": "017e7f0c-bbf0-4d77-ab06-27f50439a94d",
   "metadata": {},
   "outputs": [
    {
     "data": {
      "text/plain": [
       "(2200, 8)"
      ]
     },
     "execution_count": 8,
     "metadata": {},
     "output_type": "execute_result"
    }
   ],
   "source": [
    "df.shape"
   ]
  },
  {
   "cell_type": "code",
   "execution_count": 9,
   "id": "4889ec00-2ff5-40c7-b567-bc497d5773de",
   "metadata": {},
   "outputs": [
    {
     "data": {
      "text/plain": [
       "17600"
      ]
     },
     "execution_count": 9,
     "metadata": {},
     "output_type": "execute_result"
    }
   ],
   "source": [
    "df.size"
   ]
  },
  {
   "cell_type": "code",
   "execution_count": 10,
   "id": "fbdc42a1-2625-437c-8ffb-8607e6a68b98",
   "metadata": {},
   "outputs": [
    {
     "data": {
      "text/plain": [
       "Index(['N', 'P', 'K', 'temperature', 'humidity', 'ph', 'rainfall', 'label'], dtype='object')"
      ]
     },
     "execution_count": 10,
     "metadata": {},
     "output_type": "execute_result"
    }
   ],
   "source": [
    "df.columns\n"
   ]
  },
  {
   "cell_type": "code",
   "execution_count": 11,
   "id": "e74311a0-32fd-4fbd-b9ac-0115cbed97a3",
   "metadata": {},
   "outputs": [
    {
     "data": {
      "text/plain": [
       "array(['rice', 'maize', 'chickpea', 'kidneybeans', 'pigeonpeas',\n",
       "       'mothbeans', 'mungbean', 'blackgram', 'lentil', 'pomegranate',\n",
       "       'banana', 'mango', 'grapes', 'watermelon', 'muskmelon', 'apple',\n",
       "       'orange', 'papaya', 'coconut', 'cotton', 'jute', 'coffee'],\n",
       "      dtype=object)"
      ]
     },
     "execution_count": 11,
     "metadata": {},
     "output_type": "execute_result"
    }
   ],
   "source": [
    "df[\"label\"].unique()\n"
   ]
  },
  {
   "cell_type": "code",
   "execution_count": 12,
   "id": "f44dfc01-f210-4259-b9fc-f28def03c33f",
   "metadata": {},
   "outputs": [],
   "source": [
    "X = df[['N','P', 'K', 'temperature', 'humidity', 'ph', 'rainfall']]\n",
    "Y = df[['label']]\n",
    "labels = df['label']"
   ]
  },
  {
   "cell_type": "code",
   "execution_count": 13,
   "id": "f6a093da-bff3-4244-969d-4e4a13ea96a8",
   "metadata": {},
   "outputs": [],
   "source": [
    "#intinalize empty array for accurasy and model \n",
    "\n",
    "acc = []\n",
    "mod = []"
   ]
  },
  {
   "cell_type": "code",
   "execution_count": 14,
   "id": "28b9fa4e-3f23-4609-8e11-d28f61b54533",
   "metadata": {},
   "outputs": [],
   "source": [
    "from sklearn.model_selection import train_test_split\n",
    "X_train, X_test, Y_train,Y_test = train_test_split(X,Y, test_size=0.33, random_state=2)"
   ]
  },
  {
   "cell_type": "code",
   "execution_count": 15,
   "id": "a927877d-8540-4633-83db-2abb6a3f0e38",
   "metadata": {},
   "outputs": [
    {
     "name": "stdout",
     "output_type": "stream",
     "text": [
      "Accuracy of Decison tree Model: 86.91460055096418\n",
      "              precision    recall  f1-score   support\n",
      "\n",
      "       apple       1.00      1.00      1.00        33\n",
      "      banana       1.00      1.00      1.00        33\n",
      "   blackgram       0.68      0.94      0.79        32\n",
      "    chickpea       1.00      1.00      1.00        31\n",
      "     coconut       0.94      1.00      0.97        34\n",
      "      coffee       1.00      1.00      1.00        36\n",
      "      cotton       1.00      0.97      0.99        35\n",
      "      grapes       1.00      1.00      1.00        33\n",
      "        jute       0.67      0.06      0.10        36\n",
      " kidneybeans       0.00      0.00      0.00        35\n",
      "      lentil       0.97      0.82      0.89        34\n",
      "       maize       0.89      0.94      0.92        35\n",
      "       mango       1.00      1.00      1.00        34\n",
      "   mothbeans       0.77      0.62      0.69        32\n",
      "    mungbean       1.00      1.00      1.00        36\n",
      "   muskmelon       1.00      0.94      0.97        36\n",
      "      orange       1.00      1.00      1.00        43\n",
      "      papaya       1.00      1.00      1.00        30\n",
      "  pigeonpeas       0.50      1.00      0.67        33\n",
      " pomegranate       1.00      1.00      1.00        19\n",
      "        rice       0.48      0.97      0.65        31\n",
      "  watermelon       0.93      1.00      0.96        25\n",
      "\n",
      "    accuracy                           0.87       726\n",
      "   macro avg       0.86      0.88      0.84       726\n",
      "weighted avg       0.85      0.87      0.84       726\n",
      "\n"
     ]
    }
   ],
   "source": [
    "# Decision tree\n",
    "from sklearn.tree import DecisionTreeClassifier\n",
    "from sklearn.metrics import accuracy_score\n",
    "DecisionTree = DecisionTreeClassifier(criterion='entropy',max_depth=5,random_state=2)\n",
    "\n",
    "DecisionTree.fit(X_train,Y_train)\n",
    "predict_value = DecisionTree.predict(X_test)\n",
    "x = accuracy_score(Y_test,predict_value)\n",
    "acc.append(x)\n",
    "mod.append(\"Decision Tree\")\n",
    "print(\"Accuracy of Decison tree Model:\",x*100)\n",
    "print(sklearn.metrics.classification_report(Y_test,predict_value))"
   ]
  },
  {
   "cell_type": "code",
   "execution_count": 16,
   "id": "9669cc15-11b9-4aff-a466-ddb0f2efddea",
   "metadata": {},
   "outputs": [],
   "source": [
    "from sklearn.model_selection import cross_val_score\n"
   ]
  },
  {
   "cell_type": "code",
   "execution_count": 17,
   "id": "d2664715-c8fd-4492-b371-8261cc3a10b0",
   "metadata": {},
   "outputs": [],
   "source": [
    "score = cross_val_score(DecisionTree, X, Y,cv=5)\n"
   ]
  },
  {
   "cell_type": "code",
   "execution_count": 18,
   "id": "da9a102e-bd23-435e-b5d3-7a38bba2fc93",
   "metadata": {},
   "outputs": [
    {
     "data": {
      "text/plain": [
       "array([0.93636364, 0.90909091, 0.91818182, 0.87045455, 0.93636364])"
      ]
     },
     "execution_count": 18,
     "metadata": {},
     "output_type": "execute_result"
    }
   ],
   "source": [
    "score"
   ]
  },
  {
   "cell_type": "code",
   "execution_count": 19,
   "id": "a88ffaa5-4522-489e-b8f4-4f8e23b27c5d",
   "metadata": {},
   "outputs": [],
   "source": [
    "import pickle\n",
    "# Dump the trained Naive Bayes classifier with Pickle\n",
    "DT_pkl_filename = '../Machine_model/DecisionTree.pkl'\n",
    "# Open the file to save as pkl file\n",
    "DT_Model_pkl = open(DT_pkl_filename,'wb')\n",
    "pickle.dump(DecisionTree, DT_Model_pkl)\n",
    "# Close the pickle instances\n",
    "DT_Model_pkl.close()"
   ]
  }
 ],
 "metadata": {
  "kernelspec": {
   "display_name": "Python 3",
   "language": "python",
   "name": "python3"
  },
  "language_info": {
   "codemirror_mode": {
    "name": "ipython",
    "version": 3
   },
   "file_extension": ".py",
   "mimetype": "text/x-python",
   "name": "python",
   "nbconvert_exporter": "python",
   "pygments_lexer": "ipython3",
   "version": "3.12.2"
  }
 },
 "nbformat": 4,
 "nbformat_minor": 5
}
